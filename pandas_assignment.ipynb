{
 "cells": [
  {
   "cell_type": "markdown",
   "id": "d2b872c3-73ca-4136-bdb0-58f59aef9946",
   "metadata": {},
   "source": [
    "Q1. Create a Pandas Series that contains the following data: 4, 8, 15, 16, 23, and 42. Then, print the series.\n"
   ]
  },
  {
   "cell_type": "code",
   "execution_count": 6,
   "id": "29af2a1c-ec57-4932-b418-e229bbbb70d5",
   "metadata": {},
   "outputs": [
    {
     "name": "stdout",
     "output_type": "stream",
     "text": [
      "0     4\n",
      "1     8\n",
      "2    15\n",
      "3    16\n",
      "4    23\n",
      "5    42\n",
      "dtype: int64\n"
     ]
    }
   ],
   "source": [
    "import pandas as pd\n",
    "\n",
    "sr = pd.Series([4,8,15,16,23,42])\n",
    "print(sr)"
   ]
  },
  {
   "cell_type": "markdown",
   "id": "67134508-a295-4dd2-a539-1f2d8ed848b2",
   "metadata": {},
   "source": [
    "Q2. Create a variable of list type containing 10 elements in it, and apply pandas.Series function on the\n",
    "variable print it."
   ]
  },
  {
   "cell_type": "code",
   "execution_count": 7,
   "id": "e12c96de-1ee8-4139-bab4-b511710c9095",
   "metadata": {},
   "outputs": [
    {
     "name": "stdout",
     "output_type": "stream",
     "text": [
      "0     1\n",
      "1     2\n",
      "2     3\n",
      "3     4\n",
      "4     5\n",
      "5     8\n",
      "6    15\n",
      "7    16\n",
      "8    23\n",
      "9    42\n",
      "dtype: int64\n"
     ]
    }
   ],
   "source": [
    "data = [1,2,3,4,5,8,15,16,23,42]\n",
    "sr = pd.Series(data)\n",
    "print(sr)"
   ]
  },
  {
   "cell_type": "markdown",
   "id": "a273ddd5-a22d-45a2-adb0-6209a88e3170",
   "metadata": {},
   "source": [
    "Answer=>3"
   ]
  },
  {
   "cell_type": "code",
   "execution_count": 12,
   "id": "0f06cb58-205c-4032-91c9-8c0ec9dea466",
   "metadata": {},
   "outputs": [
    {
     "name": "stdout",
     "output_type": "stream",
     "text": [
      "     Name  Age  Gender\n",
      "0   Alice   25  Female\n",
      "1     Bob   30    Male\n",
      "2  Claire   27  Female\n"
     ]
    }
   ],
   "source": [
    "d = {\n",
    "    'Name':['Alice','Bob','Claire'],\n",
    "    'Age' : [25,30,27],\n",
    "    'Gender' : ['Female','Male','Female']\n",
    "}\n",
    "df = pd.DataFrame(d)\n",
    "print(df)"
   ]
  },
  {
   "cell_type": "markdown",
   "id": "4cfae77d-c473-4ab1-b8e8-6c23d519379e",
   "metadata": {},
   "source": [
    "Q4. What is ‘DataFrame’ in pandas and how is it different from pandas.series? Explain with an example."
   ]
  },
  {
   "cell_type": "markdown",
   "id": "bb613247-8ea6-456e-b06c-700d9fc8598b",
   "metadata": {},
   "source": [
    "Answer => In Pandas, a DataFrame is a 2-dimensional labeled data structure with columns that can hold data of different types. \n",
    "\n",
    "On the other hand, a Series is a one-dimensional labeled array capable of holding data of any type. It can be seen as a single column in a DataFrame. "
   ]
  },
  {
   "cell_type": "code",
   "execution_count": 14,
   "id": "8d0d72a9-3c4d-41a3-af23-920a867c182c",
   "metadata": {},
   "outputs": [],
   "source": [
    "#example\n",
    "d = {\n",
    "    'Name':['Alice','Bob','Claire'],\n",
    "    'Age' : [25,30,27],\n",
    "    'Gender' : ['Female','Male','Female']\n",
    "}\n",
    "df = pd.DataFrame(d)\n",
    "name_series = df['Name']"
   ]
  },
  {
   "cell_type": "code",
   "execution_count": 15,
   "id": "716523bb-d86b-4854-af02-2aac8a25cdeb",
   "metadata": {},
   "outputs": [
    {
     "data": {
      "text/html": [
       "<div>\n",
       "<style scoped>\n",
       "    .dataframe tbody tr th:only-of-type {\n",
       "        vertical-align: middle;\n",
       "    }\n",
       "\n",
       "    .dataframe tbody tr th {\n",
       "        vertical-align: top;\n",
       "    }\n",
       "\n",
       "    .dataframe thead th {\n",
       "        text-align: right;\n",
       "    }\n",
       "</style>\n",
       "<table border=\"1\" class=\"dataframe\">\n",
       "  <thead>\n",
       "    <tr style=\"text-align: right;\">\n",
       "      <th></th>\n",
       "      <th>Name</th>\n",
       "      <th>Age</th>\n",
       "      <th>Gender</th>\n",
       "    </tr>\n",
       "  </thead>\n",
       "  <tbody>\n",
       "    <tr>\n",
       "      <th>0</th>\n",
       "      <td>Alice</td>\n",
       "      <td>25</td>\n",
       "      <td>Female</td>\n",
       "    </tr>\n",
       "    <tr>\n",
       "      <th>1</th>\n",
       "      <td>Bob</td>\n",
       "      <td>30</td>\n",
       "      <td>Male</td>\n",
       "    </tr>\n",
       "    <tr>\n",
       "      <th>2</th>\n",
       "      <td>Claire</td>\n",
       "      <td>27</td>\n",
       "      <td>Female</td>\n",
       "    </tr>\n",
       "  </tbody>\n",
       "</table>\n",
       "</div>"
      ],
      "text/plain": [
       "     Name  Age  Gender\n",
       "0   Alice   25  Female\n",
       "1     Bob   30    Male\n",
       "2  Claire   27  Female"
      ]
     },
     "execution_count": 15,
     "metadata": {},
     "output_type": "execute_result"
    }
   ],
   "source": [
    "# dataframe\n",
    "\n",
    "df"
   ]
  },
  {
   "cell_type": "code",
   "execution_count": 16,
   "id": "3900e807-20df-4dc2-b185-d20a8373aa60",
   "metadata": {},
   "outputs": [
    {
     "data": {
      "text/plain": [
       "0     Alice\n",
       "1       Bob\n",
       "2    Claire\n",
       "Name: Name, dtype: object"
      ]
     },
     "execution_count": 16,
     "metadata": {},
     "output_type": "execute_result"
    }
   ],
   "source": [
    "# Series\n",
    "\n",
    "name_series"
   ]
  },
  {
   "cell_type": "markdown",
   "id": "7242b6d2-7d67-4479-a735-d29598e59570",
   "metadata": {},
   "source": [
    "Q5. What are some common functions you can use to manipulate data in a Pandas DataFrame? Can\n",
    "you give an example of when you might use one of these functions?"
   ]
  },
  {
   "cell_type": "markdown",
   "id": "2190d18b-3771-4ad5-b17d-57c45e6aefe9",
   "metadata": {},
   "source": [
    "head() and tail() => These functions are used to view the first or last few rows    of the DataFrame, respectively.\n",
    "\n",
    "drop()=> Allows you to remove rows or columns from the DataFrame.\n",
    "\n",
    "fillna()=> Fills missing values in the DataFrame with specified values\n",
    "merge()=> Combines multiple DataFrames into a single DataFrame based on a common column or index."
   ]
  },
  {
   "cell_type": "code",
   "execution_count": 4,
   "id": "c06bd96f-e776-4982-be96-c8c6d10b1a3c",
   "metadata": {},
   "outputs": [
    {
     "name": "stdout",
     "output_type": "stream",
     "text": [
      "Original DataFrame:\n",
      "     A    B     C\n",
      "0  1.0  5.0   NaN\n",
      "1  2.0  NaN  10.0\n",
      "2  NaN  7.0  11.0\n",
      "3  4.0  8.0  12.0\n",
      "\n",
      "DataFrame after filling missing values with mean:\n",
      "          A         B     C\n",
      "0  1.000000  5.000000  11.0\n",
      "1  2.000000  6.666667  10.0\n",
      "2  2.333333  7.000000  11.0\n",
      "3  4.000000  8.000000  12.0\n"
     ]
    }
   ],
   "source": [
    "# example\n",
    "import pandas as pd\n",
    "# Creating a DataFrame with missing values\n",
    "data = {\n",
    "    'A': [1, 2, None, 4],\n",
    "    'B': [5, None, 7, 8],\n",
    "    'C': [None, 10, 11, 12]\n",
    "}\n",
    "df = pd.DataFrame(data)\n",
    "\n",
    "# Filling missing values with the mean of each column\n",
    "filled_df = df.fillna(df.mean())\n",
    "\n",
    "print(\"Original DataFrame:\")\n",
    "print(df)\n",
    "print(\"\\nDataFrame after filling missing values with mean:\")\n",
    "print(filled_df)"
   ]
  },
  {
   "cell_type": "markdown",
   "id": "0b38e88f-3f94-4b34-a53e-f3aba282e5ef",
   "metadata": {},
   "source": [
    "Q6. Which of the following is mutable in nature Series, DataFrame, Panel?"
   ]
  },
  {
   "cell_type": "markdown",
   "id": "51d6f50b-7a20-484a-a635-abfe8e67f20e",
   "metadata": {},
   "source": [
    "Answer=> Series and DataFrame are mutable\n",
    "\n",
    "        Panel is immutable\n",
    "\n",
    "Series:   A Series is mutable, meaning you can modify its values after creation. You can change individual elements, add or remove elements, or modify the index.\n",
    "\n",
    "DataFrame: Similarly, a DataFrame is mutable. You can modify its contents by changing values, adding or removing columns, or modifying the index or column labels.\n",
    "\n",
    "Panel : Panels are immutable, meaning once created, their contents cannot be modified.Panel is a three-dimensional data structure in Pandas that was previously used for handling data with three dimensions. "
   ]
  },
  {
   "cell_type": "markdown",
   "id": "8732b3f8-087f-4cbc-b4f4-caacb7b4f617",
   "metadata": {},
   "source": [
    "Q7=> Create a DataFrame using multiple Series. Explain with an example."
   ]
  },
  {
   "cell_type": "code",
   "execution_count": 5,
   "id": "c297dd69-880e-4648-bd70-7c25ff5aaf63",
   "metadata": {},
   "outputs": [
    {
     "name": "stdout",
     "output_type": "stream",
     "text": [
      "     Name  Age  Gender\n",
      "0   Alice   25  Female\n",
      "1     Bob   30    Male\n",
      "2  Claire   27  Female\n"
     ]
    }
   ],
   "source": [
    "# Creating multiple Series\n",
    "name_series = pd.Series(['Alice', 'Bob', 'Claire'])\n",
    "age_series = pd.Series([25, 30, 27])\n",
    "gender_series = pd.Series(['Female', 'Male', 'Female'])\n",
    "\n",
    "# Creating a DataFrame using the Series\n",
    "df = pd.DataFrame({\n",
    "    'Name': name_series,\n",
    "    'Age': age_series,\n",
    "    'Gender': gender_series\n",
    "})\n",
    "\n",
    "# Printing the DataFrame\n",
    "print(df)"
   ]
  },
  {
   "cell_type": "code",
   "execution_count": null,
   "id": "89452c17-8c90-44d7-a4ec-a57195f3c621",
   "metadata": {},
   "outputs": [],
   "source": []
  }
 ],
 "metadata": {
  "kernelspec": {
   "display_name": "Python 3 (ipykernel)",
   "language": "python",
   "name": "python3"
  },
  "language_info": {
   "codemirror_mode": {
    "name": "ipython",
    "version": 3
   },
   "file_extension": ".py",
   "mimetype": "text/x-python",
   "name": "python",
   "nbconvert_exporter": "python",
   "pygments_lexer": "ipython3",
   "version": "3.10.8"
  }
 },
 "nbformat": 4,
 "nbformat_minor": 5
}
